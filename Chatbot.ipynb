{
 "cells": [
  {
   "cell_type": "markdown",
   "metadata": {},
   "source": [
    "<h3><b><center>Author:</b> Prerana Parmar  </center></h3>\n",
    "<b>Chatbot with rule-based responses: </b> \n",
    "<br>Build a simple chatbot that responds to user inputs based on predefined rules. Use if-else statements or pattern matching techniques to identify user queries and provide appropriate responses. This will give you a basic understanding of natural language processing and conversation flow."
   ]
  },
  {
   "cell_type": "code",
   "execution_count": 1,
   "metadata": {},
   "outputs": [],
   "source": [
    "import re\n",
    "\n",
    "# Define patterns and responses\n",
    "responses = [\n",
    "    (r\"(hello|hi|hey)\\b\", \"Hello! How can I assist you?\"),\n",
    "    (r\"(how are you|how\\'s it going)/b\", \"I'm just a chatbot, but I'm here to help you!\"),\n",
    "    (r\"how can I contact you\\b\", \"You can't contact me outside of this chat, but I'm here to help you right here!\"),\n",
    "    (r\"where are you from\\b\", \"I'm a digital creation, so I don't have a specific location. But I'm here to help you!\"),\n",
    "    (r\"what's the meaning of life\\b\", \"The meaning of life is a philosophical question. Different people have different interpretations.\"),\n",
    "    (r\"what are your hobbies\\b\", \"I don't have hobbies, but I'm here to answer your quenstions and provide information!\"),\n",
    "    (r\"weather\\b\", \"I'm sorry, I don't have real-time data. You can check a weather website for accurate information.\"),\n",
    "    (r\"\\b(name|who are you)\\b\", \"I'm a simple chatbot. What can I do for you?\"),\n",
    "    (r\"(can you help me|help)\\b\", \"Sure, I'm here to help. What do you need assistance with?\"),\n",
    "    (r\"(thanks|thank you)\\b\", \"You're welcome! Feel free to ask if you have more questions.\"),\n",
    "    (r\"(bye|goodbye)\\b\", \"Goodbye! Have a great day!\")\n",
    "]"
   ]
  },
  {
   "cell_type": "code",
   "execution_count": 14,
   "metadata": {},
   "outputs": [
    {
     "name": "stdout",
     "output_type": "stream",
     "text": [
      "Chatbot: Hello! I'm your simple chatbot. Type 'exit' to end the conversation.\n",
      "You:hi\n",
      "Chatbot: Hello! How can I assist you?\n",
      "You:how are you\n",
      "Chatbot: I'm sorry, I didn't understand that. Could you please rephrase or ask something else?\n",
      "You:name\n",
      "Chatbot: I'm a simple chatbot. What can I do for you?\n",
      "You:help\n",
      "Chatbot: Sure, I'm here to help. What do you need assistance with?\n",
      "You:what's the meaning of life\n",
      "Chatbot: The meaning of life is a philosophical question. Different people have different interpretations.\n",
      "You:thanks\n",
      "Chatbot: You're welcome! Feel free to ask if you have more questions.\n",
      "You:bye\n",
      "Chatbot: Goodbye! Have a great day!\n"
     ]
    }
   ],
   "source": [
    "print(\"Chatbot: Hello! I'm your simple chatbot. Type 'exit' to end the conversation.\")\n",
    "\n",
    "while True:\n",
    "    \n",
    "    # Taking input from user\n",
    "    user_input = input(\"You: \")\n",
    "    \n",
    "    # Check if user wants to exit\n",
    "    if user_input.lower() == \"exit\":\n",
    "        break\n",
    "\n",
    "    matched_response = None\n",
    "    \n",
    "    # Iterate through patterns and responses\n",
    "    for pattern, response in responses:\n",
    "        \n",
    "        # Use re.IGNORECASE to make the pattern matching case-insensitive\n",
    "        if re.search(pattern, user_input, re.IGNORECASE):\n",
    "            matched_response = response\n",
    "            break\n",
    "    \n",
    "    if matched_response:\n",
    "        # Print user input and chatbot response if a match is found\n",
    "        print(\"You:\" + user_input) \n",
    "        print(\"Chatbot:\", matched_response)\n",
    "\n",
    "    else:\n",
    "        # If no match is found, provide a default response\n",
    "        print(\"You:\" + user_input)\n",
    "        print(\"Chatbot: I'm sorry, I didn't understand that. Could you please rephrase or ask something else?\")\n"
   ]
  }
 ],
 "metadata": {
  "kernelspec": {
   "display_name": "Python 3",
   "language": "python",
   "name": "python3"
  },
  "language_info": {
   "codemirror_mode": {
    "name": "ipython",
    "version": 3
   },
   "file_extension": ".py",
   "mimetype": "text/x-python",
   "name": "python",
   "nbconvert_exporter": "python",
   "pygments_lexer": "ipython3",
   "version": "3.10.4"
  },
  "orig_nbformat": 4
 },
 "nbformat": 4,
 "nbformat_minor": 2
}
